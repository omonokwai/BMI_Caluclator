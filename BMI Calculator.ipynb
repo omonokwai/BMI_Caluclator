{
 "cells": [
  {
   "cell_type": "code",
   "execution_count": 16,
   "id": "65f827c8",
   "metadata": {},
   "outputs": [],
   "source": [
    "def bmi():\n",
    "    weight = input('Enter you weight in lbs:\\n')\n",
    "\n",
    "    height = input('Enter Your height in inches:\\n')\n",
    "\n",
    "    while not weight.isdigit() or not height.isdigit():\n",
    "        print('Please digits only')\n",
    "        weight = input('Enter you weight in lbs:\\n')\n",
    "\n",
    "        height = input('Enter Your height in inches:\\n')\n",
    "\n",
    "\n",
    "    weight, height = int(weight), int(height)\n",
    "\n",
    "    BMI = (weight*703)/(height * height)\n",
    "\n",
    "    print('Your BMI is:', BMI)\n",
    "    if BMI > 0:\n",
    "        if BMI >=40:\n",
    "            print('Classification: Morbidly Obese, Health Risk: Extremely High')\n",
    "        elif BMI >= 35 or BMI <= 39.9:\n",
    "            print('Classification: Severely Obese, Health Risk: Very High')\n",
    "        elif BMI >= 30 or BMI <= 34.9:\n",
    "            print('Classification:  Obese, Health Risk:  High')\n",
    "        elif BMI >= 25 or BMI <= 29.9:\n",
    "            print('Classification:  Overweight, Health Risk:  Increased')\n",
    "        elif BMI >= 18.5 or BMI <= 24.9:\n",
    "            print('Classification:  Normal weight, Health Risk:  Minimal')\n",
    "        else:\n",
    "            print('Classification:  Underweight, Health Risk:  Minimal')\n",
    "    else:\n",
    "        print('Please Enter a valid weight')"
   ]
  },
  {
   "cell_type": "code",
   "execution_count": 17,
   "id": "953c954d",
   "metadata": {},
   "outputs": [
    {
     "name": "stdout",
     "output_type": "stream",
     "text": [
      "Enter you weight in lbs:\n",
      "0\n",
      "Enter Your height in inches:\n",
      "1\n",
      "Your BMI is: 0.0\n",
      "Please Enter a valid weight\n"
     ]
    }
   ],
   "source": [
    "bmi()"
   ]
  },
  {
   "cell_type": "code",
   "execution_count": null,
   "id": "7e0825c2",
   "metadata": {},
   "outputs": [],
   "source": []
  }
 ],
 "metadata": {
  "kernelspec": {
   "display_name": "Python 3 (ipykernel)",
   "language": "python",
   "name": "python3"
  },
  "language_info": {
   "codemirror_mode": {
    "name": "ipython",
    "version": 3
   },
   "file_extension": ".py",
   "mimetype": "text/x-python",
   "name": "python",
   "nbconvert_exporter": "python",
   "pygments_lexer": "ipython3",
   "version": "3.11.3"
  }
 },
 "nbformat": 4,
 "nbformat_minor": 5
}
